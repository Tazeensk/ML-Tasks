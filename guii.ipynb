{
 "cells": [
  {
   "cell_type": "code",
   "execution_count": 7,
   "metadata": {},
   "outputs": [
    {
     "name": "stdout",
     "output_type": "stream",
     "text": [
      "Speak now...\n",
      "Recording stopped.\n",
      "Recording stopped. Processing audio...\n",
      "1/1 [==============================] - 0s 85ms/step\n",
      "Predicted gender: male\n"
     ]
    }
   ],
   "source": [
    "import numpy as np\n",
    "import librosa\n",
    "from keras.models import load_model\n",
    "from sklearn.preprocessing import LabelEncoder\n",
    "from keras.preprocessing.sequence import pad_sequences\n",
    "import sounddevice as sd\n",
    "\n",
    "# Load the trained model\n",
    "model = load_model('model.h5')\n",
    "\n",
    "# Load the label encoder classes\n",
    "label_encoder_classes = np.load('label_encoder_classes.npy', allow_pickle=True)\n",
    "label_encoder = LabelEncoder()\n",
    "label_encoder.classes_ = label_encoder_classes\n",
    "\n",
    "# Assuming you have a function to extract features from audio\n",
    "def extract_features_from_audio(audio_data):\n",
    "    mfccs = librosa.feature.mfcc(y=audio_data, sr=22050, n_mfcc=13, n_fft=1024)\n",
    "    mfccs_padded = pad_sequences([mfccs.T], maxlen=100, padding='post', truncating='post')[0].T\n",
    "    return mfccs_padded\n",
    "\n",
    "# Function to handle microphone input\n",
    "def callback(indata, frames, time, status):\n",
    "    if status:\n",
    "        print(status, flush=True)\n",
    "    if indata.any():\n",
    "        live_data.append(indata.copy())\n",
    "\n",
    "# Function to process the recorded audio and make predictions\n",
    "def process_audio():\n",
    "    print(\"Recording stopped. Processing audio...\")\n",
    "    live_data_concatenated = np.concatenate(live_data, axis=0)\n",
    "    live_data_features = extract_features_from_audio(live_data_concatenated[:, 0])\n",
    "    live_data_features = np.expand_dims(live_data_features, axis=0)\n",
    "    predictions = model.predict(live_data_features)\n",
    "    predicted_labels = label_encoder.inverse_transform(np.argmax(predictions, axis=1))\n",
    "    print(f\"Predicted gender: {predicted_labels[0]}\")\n",
    "\n",
    "# Start microphone input stream\n",
    "input(\"Press Enter to start recording...\")\n",
    "live_data = []\n",
    "with sd.InputStream(callback=callback):\n",
    "    print('Speak now...')\n",
    "    sd.sleep(5000)  # Adjust the duration (in milliseconds) as needed\n",
    "    print('Recording stopped.')\n",
    "    process_audio()\n"
   ]
  },
  {
   "cell_type": "code",
   "execution_count": null,
   "metadata": {},
   "outputs": [],
   "source": []
  }
 ],
 "metadata": {
  "kernelspec": {
   "display_name": "base",
   "language": "python",
   "name": "python3"
  },
  "language_info": {
   "codemirror_mode": {
    "name": "ipython",
    "version": 3
   },
   "file_extension": ".py",
   "mimetype": "text/x-python",
   "name": "python",
   "nbconvert_exporter": "python",
   "pygments_lexer": "ipython3",
   "version": "3.11.5"
  }
 },
 "nbformat": 4,
 "nbformat_minor": 2
}
